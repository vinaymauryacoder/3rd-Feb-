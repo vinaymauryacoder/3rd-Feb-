{
 "cells": [
  {
   "cell_type": "raw",
   "id": "4e3d3c74",
   "metadata": {},
   "source": [
    "Q1. Which keyword is used to create a function? Create a function to return a list of odd numbers in the\n",
    "range of 1 to 25."
   ]
  },
  {
   "cell_type": "code",
   "execution_count": 2,
   "id": "f0094f47",
   "metadata": {},
   "outputs": [
    {
     "name": "stdout",
     "output_type": "stream",
     "text": [
      "[1, 3, 5, 7, 9, 11, 13, 15, 17, 19, 21, 23, 25]\n"
     ]
    }
   ],
   "source": [
    " #  keyword used to create a function in Python is  - def\n",
    "\n",
    "def test():\n",
    "    odd_numbers = []\n",
    "    for num in range(1, 26):\n",
    "        if num % 2 != 0:\n",
    "            odd_numbers.append(num)\n",
    "    return odd_numbers\n",
    "print(test())"
   ]
  },
  {
   "cell_type": "raw",
   "id": "8f8a5b8b",
   "metadata": {},
   "source": [
    "Q2. Why *args and **kwargs is used in some functions? Create a function each for *args and **kwargs to\n",
    "demonstrate their use."
   ]
  },
  {
   "cell_type": "code",
   "execution_count": 4,
   "id": "c0023410",
   "metadata": {},
   "outputs": [
    {
     "name": "stdout",
     "output_type": "stream",
     "text": [
      "26\n"
     ]
    }
   ],
   "source": [
    "#  *args -  is used to pass a variable number of arguments to a function\n",
    "#  **kwargs -  is used to pass a variable number of keyword arguments to a function.\n",
    "\n",
    "def calculate_sum(*args):\n",
    "    sum = 0\n",
    "    for num in args:\n",
    "        sum += num\n",
    "    return sum\n",
    "print(calculate_sum(3,6,9,8))"
   ]
  },
  {
   "cell_type": "code",
   "execution_count": 6,
   "id": "7adb65bc",
   "metadata": {},
   "outputs": [],
   "source": [
    "def test(**kwargs):\n",
    "    for i in kwargs.keys():\n",
    "        if type(kwargs[i] ) == list :\n",
    "            return i , kwargs[i]"
   ]
  },
  {
   "cell_type": "code",
   "execution_count": 7,
   "id": "8b9b411d",
   "metadata": {},
   "outputs": [
    {
     "data": {
      "text/plain": [
       "('c', [1, 2, 3, 4])"
      ]
     },
     "execution_count": 7,
     "metadata": {},
     "output_type": "execute_result"
    }
   ],
   "source": [
    "test(a = 56 , b = 43 , c = [1,2,3,4] , d = (\"DOG\" , \"FOGG\"))"
   ]
  },
  {
   "cell_type": "raw",
   "id": "f6dc166f",
   "metadata": {},
   "source": [
    "Q3.What is an iterator in python? Name the method used to initialise the iterator object and the method\n",
    "used for iteration. Use these methods to print the first five elements of the given list [2, 4, 6, 8, 10, 12, 14, 16,\n",
    "18, 20]."
   ]
  },
  {
   "cell_type": "code",
   "execution_count": 8,
   "id": "1c72292c",
   "metadata": {},
   "outputs": [
    {
     "name": "stdout",
     "output_type": "stream",
     "text": [
      "2\n",
      "4\n",
      "6\n",
      "8\n",
      "10\n"
     ]
    }
   ],
   "source": [
    " \"\"\"an iterator is an object that allows us to loop over a collection of elements one at a time.\n",
    " It provides a way to access the elements of an object \"\"\"\n",
    "    \n",
    "\n",
    "\"\"\"METHOD USED TO INITIALISE THE ITERATOR OBJECT  \n",
    "         iter().\n",
    "used for iteration is next() \"\"\"\n",
    "\n",
    "\n",
    "l = [2, 4, 6, 8, 10, 12, 14, 16, 18, 20]\n",
    "\n",
    "# Initialize the iterator object\n",
    "my_iterator = iter(l)\n",
    "\n",
    "for i in range(5):\n",
    "    print(next(my_iterator))\n"
   ]
  },
  {
   "cell_type": "raw",
   "id": "01db569c",
   "metadata": {},
   "source": [
    "Q4. What is a generator function in python? Why yield keyword is used? Give an example of a generator\n",
    "function."
   ]
  },
  {
   "cell_type": "raw",
   "id": "122c3696",
   "metadata": {},
   "source": [
    "\"\"\"generator function in Python is a type of function that can be used to create an iterator, allowing for the generation\n",
    "    of a sequence of values on-the-fly, rather than creating them all at once and storing them in memory.\"\"\"\n",
    "\"\"\"  yield keyword is used in a generator function to return a value and suspend the function's execution, allowing it to \n",
    "     be resumed later from the point of suspension. \"\"\"\n",
    "\n",
    "def even_numbers(limit):\n",
    "    for i in range(0, limit+1, 2):\n",
    "        yield i"
   ]
  },
  {
   "cell_type": "code",
   "execution_count": null,
   "id": "412db72f",
   "metadata": {},
   "outputs": [],
   "source": [
    "Q5. Create a generator function for prime numbers less than 1000. Use the next() method to print the\n",
    "first 20 prime numbers."
   ]
  },
  {
   "cell_type": "code",
   "execution_count": 13,
   "id": "bd5195b8",
   "metadata": {},
   "outputs": [
    {
     "name": "stdout",
     "output_type": "stream",
     "text": [
      "2\n",
      "3\n",
      "5\n",
      "7\n",
      "11\n",
      "13\n",
      "17\n",
      "19\n",
      "23\n",
      "29\n",
      "31\n",
      "37\n",
      "41\n",
      "43\n",
      "47\n",
      "53\n",
      "59\n",
      "61\n",
      "67\n",
      "71\n"
     ]
    }
   ],
   "source": [
    "def prime():\n",
    "    yield 2\n",
    "    prime_list = [2]\n",
    "    i = 3\n",
    "    while i < 1000:\n",
    "        is_prime = True\n",
    "        for prime in prime_list:\n",
    "            if i % prime == 0:\n",
    "                is_prime = False\n",
    "                break\n",
    "        if is_prime:\n",
    "            yield i\n",
    "            prime_list.append(i)\n",
    "        i += 2\n",
    "prime_generator = prime()\n",
    "for i in range(20):\n",
    "    print(next(prime_generator))\n"
   ]
  },
  {
   "cell_type": "code",
   "execution_count": null,
   "id": "81993c10",
   "metadata": {},
   "outputs": [],
   "source": []
  }
 ],
 "metadata": {
  "kernelspec": {
   "display_name": "Python 3 (ipykernel)",
   "language": "python",
   "name": "python3"
  },
  "language_info": {
   "codemirror_mode": {
    "name": "ipython",
    "version": 3
   },
   "file_extension": ".py",
   "mimetype": "text/x-python",
   "name": "python",
   "nbconvert_exporter": "python",
   "pygments_lexer": "ipython3",
   "version": "3.9.13"
  }
 },
 "nbformat": 4,
 "nbformat_minor": 5
}
